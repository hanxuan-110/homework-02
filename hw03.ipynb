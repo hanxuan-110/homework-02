{
  "cells": [
    {
      "cell_type": "markdown",
      "metadata": {
        "id": "view-in-github",
        "colab_type": "text"
      },
      "source": [
        "<a href=\"https://colab.research.google.com/github/hanxuan-110/homework-02/blob/main/hw03.ipynb\" target=\"_parent\"><img src=\"https://colab.research.google.com/assets/colab-badge.svg\" alt=\"Open In Colab\"/></a>"
      ]
    },
    {
      "cell_type": "markdown",
      "metadata": {
        "id": "dX208et1xeZE"
      },
      "source": [
        "# DATASCI 101, Homework 03"
      ]
    },
    {
      "cell_type": "code",
      "execution_count": 1,
      "metadata": {
        "id": "Mz2UAa-axeZH"
      },
      "outputs": [],
      "source": [
        "# basic setup, run this first\n",
        "import warnings\n",
        "warnings.simplefilter(action='ignore', category=FutureWarning)\n",
        "import numpy as np"
      ]
    },
    {
      "cell_type": "markdown",
      "metadata": {
        "id": "cjZTqgnPxeZI"
      },
      "source": [
        "## Question 1\n",
        "\n",
        "We will start this homework with some questions on collections in Python.\n",
        "\n",
        "### Q1.a\n",
        "\n",
        "Recall that *sets* are collections where each value in the collection only appears once.\n",
        "\n",
        "Using the `set` function, turn both of these strings into sets. Then use set methods to find\n",
        "\n",
        "* How many letters are shared between the two names?\n",
        "* Which letters are in \"George Washington\" that are not in \"Abraham Lincoln\"?\n",
        "* How many letters are in neither president's name?\n"
      ]
    },
    {
      "cell_type": "code",
      "execution_count": 2,
      "metadata": {
        "id": "CA9BNvjTxeZI"
      },
      "outputs": [],
      "source": [
        "gw =\"George Washington\".lower()\n",
        "al = \"Abraham Lincoln\".lower()\n",
        "az = \"abcdefghijklmnopqrstuvwxyz\""
      ]
    },
    {
      "cell_type": "code",
      "execution_count": 3,
      "metadata": {
        "colab": {
          "base_uri": "https://localhost:8080/"
        },
        "id": "cCOg4XIrxeZJ",
        "outputId": "6402aa79-524b-4a88-c9ed-417a9b83b800"
      },
      "outputs": [
        {
          "output_type": "stream",
          "name": "stdout",
          "text": [
            "6\n"
          ]
        }
      ],
      "source": [
        "set_gw = set(gw.replace(\" \", \"\"))\n",
        "set_al = set(al.replace(\" \", \"\"))\n",
        "set_az = set(az)\n",
        "\n",
        "shared_letters = set_gw & set_al\n",
        "num_shared_letters = len(shared_letters)\n",
        "print(num_shared_letters)"
      ]
    },
    {
      "cell_type": "code",
      "execution_count": 4,
      "metadata": {
        "colab": {
          "base_uri": "https://localhost:8080/"
        },
        "id": "2GgJ1dQuxeZJ",
        "outputId": "79279b1d-87b2-4fa5-bd64-6be3fa25a8d6"
      },
      "outputs": [
        {
          "output_type": "stream",
          "name": "stdout",
          "text": [
            "5\n"
          ]
        }
      ],
      "source": [
        "unique_to_gw = set_gw - set_al\n",
        "num_unique_to_gw = len(unique_to_gw)\n",
        "print(num_unique_to_gw)"
      ]
    },
    {
      "cell_type": "code",
      "execution_count": 5,
      "metadata": {
        "colab": {
          "base_uri": "https://localhost:8080/"
        },
        "id": "kgpGqLo0xeZK",
        "outputId": "fde7e9cf-ac29-433a-e878-ae206254ac0b"
      },
      "outputs": [
        {
          "output_type": "stream",
          "name": "stdout",
          "text": [
            "11\n"
          ]
        }
      ],
      "source": [
        "letters_in_names = set_gw | set_al\n",
        "letters_not_in_names = set_az - letters_in_names\n",
        "num_letters_not_in_names = len(letters_not_in_names)\n",
        "print(num_letters_not_in_names)"
      ]
    },
    {
      "cell_type": "markdown",
      "metadata": {
        "id": "aD9RJ_LIxeZK"
      },
      "source": [
        "### Q1.b\n",
        "\n",
        "\n",
        "\n",
        "Use a `for` loop to find the unique values in the lunch orders below. Using Python, print out the number of unique items being ordered. (*Hint*: You can use `set()` to create an empty set.)"
      ]
    },
    {
      "cell_type": "code",
      "execution_count": 6,
      "metadata": {
        "colab": {
          "base_uri": "https://localhost:8080/"
        },
        "id": "LLZWzNmDxeZK",
        "outputId": "7d9c1cac-9874-4928-e9f8-e549249499ef"
      },
      "outputs": [
        {
          "output_type": "stream",
          "name": "stdout",
          "text": [
            "7\n"
          ]
        }
      ],
      "source": [
        "lunch_orders = [{\"pasta\", \"coffee\"},\n",
        "                {\"fries\",\"sandwich\", \"cookie\"},\n",
        "                {\"pasta\", \"salad\", \"water\"},\n",
        "                {\"salad\", \"pasta\", \"coffee\"},\n",
        "                {\"sandwich\", \"water\"}]\n",
        "\n",
        "unique_items = set()\n",
        "\n",
        "for order in lunch_orders:\n",
        "    unique_items.update(order)\n",
        "\n",
        "print(len(unique_items))"
      ]
    },
    {
      "cell_type": "markdown",
      "metadata": {
        "id": "rtNvI_tqxeZK"
      },
      "source": [
        "### Q1.c\n",
        "\n",
        "Here is a menu at the resturant, with items and their cost:\n",
        "\n",
        "| Item | Price | Vegetarian |\n",
        "| --- | --- | --- |\n",
        "| salad | 8 | True |\n",
        "| soup | 5 | False |\n",
        "| pasta | 12 | True |\n",
        "| sandwich | 9 | False |\n",
        "| burger | 13 | False |\n",
        "| fries | 6 | True |\n",
        "| cake | 6 | True |\n",
        "| cookie| 3 | True |\n",
        "| water | 0 | True |\n",
        "| coffee| 2 | True |\n",
        "| soda | 3 | True |\n",
        "\n",
        "Create a dictionary called `menu` that has the item names as keys and a two-tuple with (price, vegetarian) as the value.\n",
        "\n",
        "Demonstrate by retrieving the price and vegetarian status of \"burger\".\n",
        "\n",
        "\n",
        "\n",
        "### Q1.d\n",
        "\n",
        "Write a function that takes a lunch order (a set of menu items) and returns the total price.\n",
        "\n",
        "Write a function that takes a lunch order a returns true if the entire order is vegetarian.\n",
        "\n",
        "Use list comprehensions to compute the price of each order and whether each order is vegtarian."
      ]
    },
    {
      "cell_type": "code",
      "execution_count": 7,
      "metadata": {
        "colab": {
          "base_uri": "https://localhost:8080/"
        },
        "id": "ck2_0KrHxeZL",
        "outputId": "0781511d-895c-4302-b2f0-0a7ffd4f0f80"
      },
      "outputs": [
        {
          "output_type": "stream",
          "name": "stdout",
          "text": [
            "Burger price: $13, Vegetarian: False\n"
          ]
        }
      ],
      "source": [
        "menu={\"salad\":(8, True),\n",
        "    \"soup\": (5, False),\n",
        "    \"pasta\": (12, True),\n",
        "    \"sandwich\": (9, False),\n",
        "    \"burger\": (13, False),\n",
        "    \"fries\": (6, True),\n",
        "    \"cake\": (6, True),\n",
        "    \"cookie\": (3, True),\n",
        "    \"water\": (0, True),\n",
        "    \"coffee\": (2, True),\n",
        "    \"soda\": (3, True)}\n",
        "\n",
        "burger_price, burger_vegetarian = menu[\"burger\"]\n",
        "\n",
        "print(f\"Burger price: ${burger_price}, Vegetarian: {burger_vegetarian}\")"
      ]
    },
    {
      "cell_type": "code",
      "execution_count": 15,
      "metadata": {
        "colab": {
          "base_uri": "https://localhost:8080/"
        },
        "id": "LPJn3mkexeZM",
        "outputId": "4500cd87-7b0e-4544-9c70-c123eae83486"
      },
      "outputs": [
        {
          "output_type": "stream",
          "name": "stdout",
          "text": [
            "Order prices: [14, 18, 20, 22, 9]\n",
            "Order vegetarian status: [True, False, True, True, False]\n"
          ]
        }
      ],
      "source": [
        "\n",
        "def calculate_total_price(order):\n",
        "    return sum(menu[item][0] for item in order)\n",
        "\n",
        "def is_vegetarian_order(order):\n",
        "    return all(menu[item][1] for item in order)\n",
        "\n",
        "lunch_orders = [\n",
        "    {\"pasta\", \"coffee\"},\n",
        "    {\"fries\", \"sandwich\", \"cookie\"},\n",
        "    {\"pasta\", \"salad\", \"water\"},\n",
        "    {\"salad\", \"pasta\", \"coffee\"},\n",
        "    {\"sandwich\", \"water\"}\n",
        "]\n",
        "\n",
        "order_prices = [calculate_total_price(order) for order in lunch_orders]\n",
        "\n",
        "\n",
        "order_vegetarian_status = [is_vegetarian_order(order) for order in lunch_orders]\n",
        "\n",
        "print(\"Order prices:\", order_prices)\n",
        "print(\"Order vegetarian status:\", order_vegetarian_status)"
      ]
    },
    {
      "cell_type": "markdown",
      "metadata": {
        "id": "mTL1KT3SxeZM"
      },
      "source": [
        "### Q1.e\n",
        "\n",
        "When you have completed your menu in the part (c) you can remove the `#` charcters make this code run:"
      ]
    },
    {
      "cell_type": "code",
      "execution_count": 10,
      "metadata": {
        "id": "MYlocxpSxeZM"
      },
      "outputs": [],
      "source": [
        "menu_dict = {\n",
        "\"name\": list(menu.keys()),\n",
        "\"price\": [i[0] for i in menu.values()],\n",
        "\"vegetarian\": [i[1] for i in menu.values()]\n",
        "}"
      ]
    },
    {
      "cell_type": "markdown",
      "metadata": {
        "id": "fpTpA353xeZM"
      },
      "source": [
        "Use this table to compute the following:\n",
        "\n",
        "* What is the price of the most expensive item in the list?\n",
        "* What is the name of the most expensive item? (You can use the `np.argmax()` function to help you.)\n",
        "* How many vegetarian items are there?\n",
        "\n",
        "\n",
        "\n",
        "### Question 2"
      ]
    },
    {
      "cell_type": "code",
      "source": [
        "import numpy as np\n",
        "max_price = max(menu_dict[\"price\"])\n",
        "print(f\"The price of the most expensive item is: ${max_price}\")\n",
        "\n",
        "most_expensive_item_index = np.argmax(menu_dict[\"price\"])\n",
        "most_expensive_item_name = menu_dict[\"name\"][most_expensive_item_index]\n",
        "print(f\"The most expensive item is: {most_expensive_item_name}\")\n",
        "\n",
        "num_vegetarian_items = sum(menu_dict[\"vegetarian\"])\n",
        "print(f\"The number of vegetarian items is: {num_vegetarian_items}\")\n"
      ],
      "metadata": {
        "colab": {
          "base_uri": "https://localhost:8080/"
        },
        "id": "ASvIxJ-Kyao8",
        "outputId": "9c609b50-581d-4aa1-a8b4-ffea4c6417ef"
      },
      "execution_count": 12,
      "outputs": [
        {
          "output_type": "stream",
          "name": "stdout",
          "text": [
            "The price of the most expensive item is: $13\n",
            "The most expensive item is: burger\n",
            "The number of vegetarian items is: 8\n"
          ]
        }
      ]
    },
    {
      "cell_type": "code",
      "execution_count": 13,
      "metadata": {
        "id": "W0BU0kQTxeZN"
      },
      "outputs": [],
      "source": [
        "# run this to do question 2\n",
        "import pandas as pd"
      ]
    },
    {
      "cell_type": "markdown",
      "metadata": {
        "id": "0okZakmqxeZN"
      },
      "source": [
        "### Q2.a\n",
        "\n",
        "Here's a Pandas `DataFrame` version of our menu table."
      ]
    },
    {
      "cell_type": "code",
      "execution_count": 16,
      "metadata": {
        "id": "wy0Q7-EnxeZN"
      },
      "outputs": [],
      "source": [
        "menu_df = pd.DataFrame({'name': ['salad',\n",
        "  'soup',\n",
        "  'pasta',\n",
        "  'sandwich',\n",
        "  'burger',\n",
        "  'fries',\n",
        "  'cake',\n",
        "  'cookie',\n",
        "  'water',\n",
        "  'coffee',\n",
        "  'soda'],\n",
        " 'price': [8, 5, 12, 9, 13, 6, 6, 3, 0, 2, 3],\n",
        " 'vegetarian': [True,\n",
        "  False,\n",
        "  True,\n",
        "  False,\n",
        "  False,\n",
        "  True,\n",
        "  True,\n",
        "  True,\n",
        "  True,\n",
        "  True,\n",
        "  True]})"
      ]
    },
    {
      "cell_type": "markdown",
      "metadata": {
        "id": "F4o8uv7vxeZN"
      },
      "source": [
        "Using **methods** for Series objects (i.e., methods called on the columns of the table. Compute the following:\n",
        "\n",
        "* The name of the least expensive item on the list.\n",
        "* The number of items that cost between 5 and 10 dollars (inclusive).\n",
        "* The names all of vegetarian items that cost more than 10 dollars."
      ]
    },
    {
      "cell_type": "code",
      "source": [
        "least_expensive_item = menu_df.loc[menu_df[\"price\"].idxmin(), \"name\"]\n",
        "print(f\"The name of the least expensive item is: {least_expensive_item}\")"
      ],
      "metadata": {
        "colab": {
          "base_uri": "https://localhost:8080/"
        },
        "id": "WL9hYXqXz2J6",
        "outputId": "14bbd113-773f-4fbf-f510-31f65f546ce2"
      },
      "execution_count": 17,
      "outputs": [
        {
          "output_type": "stream",
          "name": "stdout",
          "text": [
            "The name of the least expensive item is: water\n"
          ]
        }
      ]
    },
    {
      "cell_type": "markdown",
      "metadata": {
        "id": "qBD1jSZPxeZO"
      },
      "source": [
        "### Q2.b\n",
        "\n",
        "Create a table that is only composed of items that cost less than or equal to $5 (call the `value_items`).\n"
      ]
    },
    {
      "cell_type": "markdown",
      "metadata": {
        "id": "5Oir0fbJxeZO"
      },
      "source": [
        "How many vegetarian items are in this menu?"
      ]
    },
    {
      "cell_type": "markdown",
      "metadata": {
        "id": "8bA11E4bxeZO"
      },
      "source": [
        "## Q2.c\n",
        "\n",
        "Let's use these techniques on some real data!"
      ]
    },
    {
      "cell_type": "code",
      "execution_count": null,
      "metadata": {
        "id": "rAcmFd0WxeZO",
        "outputId": "efa0d90f-1940-4024-8371-dde84e23fcb3"
      },
      "outputs": [
        {
          "data": {
            "text/plain": [
              "Index(['duration_ms', 'track.explicit', 'key', 'danceability', 'energy',\n",
              "       'loudness', 'acousticness', 'instrumentalness', 'liveness', 'tempo',\n",
              "       'time_signature', 'track.popularity', 'track.album.release_date',\n",
              "       'track.name', 'artist.name'],\n",
              "      dtype='object')"
            ]
          },
          "execution_count": 8,
          "metadata": {},
          "output_type": "execute_result"
        }
      ],
      "source": [
        "spotify = pd.read_csv(\"./spotify.csv\")\n",
        "spotify.columns"
      ]
    },
    {
      "cell_type": "markdown",
      "metadata": {
        "id": "4UfB8Z12xeZO"
      },
      "source": [
        "Using Python and Pandas, answer the following questions:\n",
        "\n",
        "* How many songs have a popularity greater than 80?\n",
        "* For songs with a popularity greater than 80, what is the shortest song (in miliseconds)?\n",
        "* What is the name of the song with popularity greater than 80 that has the slowest tempo?"
      ]
    },
    {
      "cell_type": "markdown",
      "metadata": {
        "id": "_GFvub1lxeZO"
      },
      "source": [
        "### Q2.d\n",
        "\n",
        "Here is a little code that will create a new column with four (approximately) evenly sized groups based on popularly (low, medium, medium high, and high). The code after creating the columns shows how many rows are in each group. There are a few songs with the same popularity value, which makes it difficult to get exactly evenly sized groups, but this is pretty close. The `(a, b]` output on the left shows the popularity range of that group."
      ]
    },
    {
      "cell_type": "code",
      "execution_count": null,
      "metadata": {
        "id": "HfcsY2fHxeZP",
        "outputId": "1f034977-7d94-4e9e-86cf-12d97aad75e4"
      },
      "outputs": [
        {
          "data": {
            "text/plain": [
              "popgrp\n",
              "(-0.001, 41.0]    250\n",
              "(53.0, 67.0]      242\n",
              "(67.0, 100.0]     238\n",
              "(41.0, 53.0]      237\n",
              "Name: count, dtype: int64"
            ]
          },
          "execution_count": 9,
          "metadata": {},
          "output_type": "execute_result"
        }
      ],
      "source": [
        "spotify[\"popgrp\"] = pd.qcut(spotify[\"track.popularity\"], 4)\n",
        "spotify[\"popgrp\"].value_counts()"
      ]
    },
    {
      "cell_type": "markdown",
      "metadata": {
        "id": "bR97woRmxeZP"
      },
      "source": [
        "For each group, find the number of explicit songs using the `\"track.explicit\"` column. Which group has the most explicit songs?"
      ]
    },
    {
      "cell_type": "markdown",
      "metadata": {
        "id": "nfj1vUnPxeZP"
      },
      "source": [
        "### Q2.e\n",
        "\n",
        "Create a new column that is the product of `danceability` and `energy`. Find the song with the highest product of danceability and energy. Find the tempo of this song. Is it a particularly fast song in terms of tempo? How many songs are faster than this song? How many are slower?"
      ]
    }
  ],
  "metadata": {
    "kernelspec": {
      "display_name": "Python 3 (ipykernel)",
      "language": "python",
      "name": "python3",
      "path": "/Users/mark/Documents/Professional/Teaching/umich/data-science-101-materials/env/share/jupyter/kernels/python3"
    },
    "colab": {
      "provenance": [],
      "toc_visible": true,
      "include_colab_link": true
    }
  },
  "nbformat": 4,
  "nbformat_minor": 0
}